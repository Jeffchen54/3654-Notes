{
 "cells": [
  {
   "cell_type": "markdown",
   "metadata": {},
   "source": [
    "# Correlation and Regression Analysis\n",
    "by Chris North, Virginia Tech\n",
    "\n",
    "Univariate summaries; bivariate correlations; simple, poly, multi- linear regressions\n",
    "\n",
    "Data files:  States2010.csv"
   ]
  },
  {
   "cell_type": "code",
   "execution_count": 1,
   "metadata": {},
   "outputs": [],
   "source": [
    "###\n",
    "import pandas\n",
    "import numpy\n",
    "import matplotlib\n",
    "import matplotlib.pyplot as plt\n",
    "%matplotlib inline"
   ]
  },
  {
   "cell_type": "code",
   "execution_count": 2,
   "metadata": {},
   "outputs": [
    {
     "data": {
      "text/plain": [
       "(51, 9)"
      ]
     },
     "execution_count": 2,
     "metadata": {},
     "output_type": "execute_result"
    }
   ],
   "source": [
    "###\n",
    "s = pandas.read_csv(\"data/States2010.csv\")\n",
    "s.shape"
   ]
  },
  {
   "cell_type": "markdown",
   "metadata": {},
   "source": [
    "## Univariate distribution analyses\n",
    "\n",
    "* $mean(x) = \\bar{x} = \\mu(x) = \\frac{1}{n}\\sum x_i$\n",
    "* $std(x) = \\sigma(x) = RMSE(x, \\bar{x}) = \\sqrt{\\frac{1}{n}\\sum (x_i - \\bar{x})^2}$\n",
    "    * https://en.wikipedia.org/wiki/68–95–99.7_rule\n",
    "* $var(x) = \\sigma(x)^2$\n",
    "* $zscore(x_i) = \\frac{x_i-\\bar{x}}{\\sigma(x)}$\n"
   ]
  },
  {
   "cell_type": "code",
   "execution_count": 4,
   "metadata": {},
   "outputs": [
    {
     "data": {
      "text/plain": [
       "<AxesSubplot:>"
      ]
     },
     "execution_count": 4,
     "metadata": {},
     "output_type": "execute_result"
    },
    {
     "data": {
      "image/png": "[encoded data removed]",
      "text/plain": [
       "<Figure size 432x288 with 1 Axes>"
      ]
     },
     "metadata": {
      "needs_background": "light"
     },
     "output_type": "display_data"
    }
   ],
   "source": [
    "s.PercentCollegeGrad.hist()"
   ]
  },
  {
   "cell_type": "code",
   "execution_count": 12,
   "metadata": {},
   "outputs": [
    {
     "data": {
      "text/plain": [
       "<AxesSubplot:>"
      ]
     },
     "execution_count": 12,
     "metadata": {},
     "output_type": "execute_result"
    },
    {
     "data": {
      "image/png": "[encoded data removed]",
      "text/plain": [
       "<Figure size 432x288 with 1 Axes>"
      ]
     },
     "metadata": {
      "needs_background": "light"
     },
     "output_type": "display_data"
    }
   ],
   "source": [
    "z.hist()"
   ]
  },
  {
   "cell_type": "code",
   "execution_count": 6,
   "metadata": {},
   "outputs": [
    {
     "data": {
      "text/html": [
       "<div>\n",
       "<style scoped>\n",
       "    .dataframe tbody tr th:only-of-type {\n",
       "        vertical-align: middle;\n",
       "    }\n",
       "\n",
       "    .dataframe tbody tr th {\n",
       "        vertical-align: top;\n",
       "    }\n",
       "\n",
       "    .dataframe thead th {\n",
       "        text-align: right;\n",
       "    }\n",
       "</style>\n",
       "<table border=\"1\" class=\"dataframe\">\n",
       "  <thead>\n",
       "    <tr style=\"text-align: right;\">\n",
       "      <th></th>\n",
       "      <th>Population</th>\n",
       "      <th>Pop2000</th>\n",
       "      <th>IncomePerCapita</th>\n",
       "      <th>PercentCollegeGrad</th>\n",
       "      <th>MedianRent</th>\n",
       "      <th>CommuteTime</th>\n",
       "      <th>LandArea</th>\n",
       "    </tr>\n",
       "  </thead>\n",
       "  <tbody>\n",
       "    <tr>\n",
       "      <th>count</th>\n",
       "      <td>5.100000e+01</td>\n",
       "      <td>5.100000e+01</td>\n",
       "      <td>51.000000</td>\n",
       "      <td>51.000000</td>\n",
       "      <td>51.000000</td>\n",
       "      <td>51.000000</td>\n",
       "      <td>51.000000</td>\n",
       "    </tr>\n",
       "    <tr>\n",
       "      <th>mean</th>\n",
       "      <td>6.053834e+06</td>\n",
       "      <td>5.518077e+06</td>\n",
       "      <td>37825.392157</td>\n",
       "      <td>27.154902</td>\n",
       "      <td>639.431373</td>\n",
       "      <td>23.341176</td>\n",
       "      <td>69253.047843</td>\n",
       "    </tr>\n",
       "    <tr>\n",
       "      <th>std</th>\n",
       "      <td>6.823984e+06</td>\n",
       "      <td>6.164026e+06</td>\n",
       "      <td>6659.690873</td>\n",
       "      <td>5.491787</td>\n",
       "      <td>169.291022</td>\n",
       "      <td>3.568035</td>\n",
       "      <td>85526.076023</td>\n",
       "    </tr>\n",
       "    <tr>\n",
       "      <th>min</th>\n",
       "      <td>5.636260e+05</td>\n",
       "      <td>4.937820e+05</td>\n",
       "      <td>28541.000000</td>\n",
       "      <td>17.100000</td>\n",
       "      <td>387.000000</td>\n",
       "      <td>16.000000</td>\n",
       "      <td>61.050000</td>\n",
       "    </tr>\n",
       "    <tr>\n",
       "      <th>25%</th>\n",
       "      <td>1.696962e+06</td>\n",
       "      <td>1.502608e+06</td>\n",
       "      <td>33447.000000</td>\n",
       "      <td>23.650000</td>\n",
       "      <td>502.000000</td>\n",
       "      <td>21.250000</td>\n",
       "      <td>33334.515000</td>\n",
       "    </tr>\n",
       "    <tr>\n",
       "      <th>50%</th>\n",
       "      <td>4.339367e+06</td>\n",
       "      <td>4.012012e+06</td>\n",
       "      <td>36272.000000</td>\n",
       "      <td>26.000000</td>\n",
       "      <td>589.000000</td>\n",
       "      <td>23.600000</td>\n",
       "      <td>53624.760000</td>\n",
       "    </tr>\n",
       "    <tr>\n",
       "      <th>75%</th>\n",
       "      <td>6.636084e+06</td>\n",
       "      <td>6.214791e+06</td>\n",
       "      <td>41058.500000</td>\n",
       "      <td>29.800000</td>\n",
       "      <td>766.000000</td>\n",
       "      <td>25.400000</td>\n",
       "      <td>80692.730000</td>\n",
       "    </tr>\n",
       "    <tr>\n",
       "      <th>max</th>\n",
       "      <td>3.725396e+07</td>\n",
       "      <td>3.387165e+07</td>\n",
       "      <td>62484.000000</td>\n",
       "      <td>47.100000</td>\n",
       "      <td>1106.000000</td>\n",
       "      <td>31.400000</td>\n",
       "      <td>570640.950000</td>\n",
       "    </tr>\n",
       "  </tbody>\n",
       "</table>\n",
       "</div>"
      ],
      "text/plain": [
       "         Population       Pop2000  IncomePerCapita  PercentCollegeGrad  \\\n",
       "count  5.100000e+01  5.100000e+01        51.000000           51.000000   \n",
       "mean   6.053834e+06  5.518077e+06     37825.392157           27.154902   \n",
       "std    6.823984e+06  6.164026e+06      6659.690873            5.491787   \n",
       "min    5.636260e+05  4.937820e+05     28541.000000           17.100000   \n",
       "25%    1.696962e+06  1.502608e+06     33447.000000           23.650000   \n",
       "50%    4.339367e+06  4.012012e+06     36272.000000           26.000000   \n",
       "75%    6.636084e+06  6.214791e+06     41058.500000           29.800000   \n",
       "max    3.725396e+07  3.387165e+07     62484.000000           47.100000   \n",
       "\n",
       "        MedianRent  CommuteTime       LandArea  \n",
       "count    51.000000    51.000000      51.000000  \n",
       "mean    639.431373    23.341176   69253.047843  \n",
       "std     169.291022     3.568035   85526.076023  \n",
       "min     387.000000    16.000000      61.050000  \n",
       "25%     502.000000    21.250000   33334.515000  \n",
       "50%     589.000000    23.600000   53624.760000  \n",
       "75%     766.000000    25.400000   80692.730000  \n",
       "max    1106.000000    31.400000  570640.950000  "
      ]
     },
     "execution_count": 6,
     "metadata": {},
     "output_type": "execute_result"
    }
   ],
   "source": [
    "s.describe()"
   ]
  },
  {
   "cell_type": "code",
   "execution_count": 11,
   "metadata": {},
   "outputs": [
    {
     "data": {
      "text/plain": [
       "0    -1.029702\n",
       "1    -0.119251\n",
       "2    -0.264923\n",
       "3    -1.503136\n",
       "4     0.463437\n",
       "5     1.519560\n",
       "6     1.446724\n",
       "7     0.062839\n",
       "8     3.631805\n",
       "9    -0.283132\n",
       "10   -0.009997\n",
       "11    0.372392\n",
       "12   -0.629103\n",
       "13    0.481646\n",
       "14   -0.956866\n",
       "15   -0.538058\n",
       "16    0.299556\n",
       "17   -1.302837\n",
       "18   -1.193583\n",
       "19   -0.192087\n",
       "20    1.464933\n",
       "21    1.938367\n",
       "22   -0.483431\n",
       "23    0.736572\n",
       "24   -1.466718\n",
       "25   -0.465222\n",
       "26   -0.028206\n",
       "27   -0.009997\n",
       "28   -1.029702\n",
       "29    0.955080\n",
       "30    1.264634\n",
       "31   -0.374177\n",
       "32    0.845826\n",
       "33   -0.246714\n",
       "34   -0.283132\n",
       "35   -0.647312\n",
       "36   -0.865821\n",
       "37    0.208511\n",
       "38   -0.210296\n",
       "39    0.481646\n",
       "40   -0.665521\n",
       "41   -0.465222\n",
       "42   -0.865821\n",
       "43   -0.319550\n",
       "44    0.281347\n",
       "45    1.046125\n",
       "46    1.137170\n",
       "47    0.663736\n",
       "48   -1.830898\n",
       "49   -0.301341\n",
       "50   -0.720148\n",
       "Name: PercentCollegeGrad, dtype: float64"
      ]
     },
     "execution_count": 11,
     "metadata": {},
     "output_type": "execute_result"
    }
   ],
   "source": [
    "z = (s.PercentCollegeGrad - s.PercentCollegeGrad.mean()) / s.PercentCollegeGrad.std()\n",
    "z"
   ]
  },
  {
   "cell_type": "markdown",
   "metadata": {},
   "source": [
    "## Bivariate correlation analyses\n",
    "\n",
    "* Center of mass $= (mean(x), mean(y), ...)$\n",
    "* $cov(x,y) = \\frac{1}{n}\\sum(x_i-\\bar{x})(y_i-\\bar{y})$\n",
    "* **Pearson Correlation**\n",
    "    * https://en.wikipedia.org/wiki/Pearson_correlation_coefficient\n",
    "    * $r(x,y) = \\frac{cov(x,y)}{\\sigma(x)\\sigma(y)} = cov(zscore(x),zscore(y))$\n",
    "    * $r(x,y) = [-1, 1]$\n",
    "        * -1 = negative linear correlation\n",
    "        * 0 = no linear correlation\n",
    "        * 1 = positive linear correlation\n",
    "    * Correlation matrix = correlations between all pairs of columns\n",
    "\n",
    "Are PercentCollegeGrad and IncomePerCapita related?"
   ]
  },
  {
   "cell_type": "code",
   "execution_count": 13,
   "metadata": {},
   "outputs": [
    {
     "data": {
      "text/plain": [
       "<matplotlib.collections.PathCollection at 0x7fa3a1aece50>"
      ]
     },
     "execution_count": 13,
     "metadata": {},
     "output_type": "execute_result"
    },
    {
     "data": {
      "image/png": "[encoded data removed]",
      "text/plain": [
       "<Figure size 432x288 with 1 Axes>"
      ]
     },
     "metadata": {
      "needs_background": "light"
     },
     "output_type": "display_data"
    }
   ],
   "source": [
    "###\n",
    "ax = s.plot.scatter(x='PercentCollegeGrad', y='IncomePerCapita')\n",
    "plt.scatter(s.PercentCollegeGrad.mean(), s.IncomePerCapita.mean(), color='red')"
   ]
  },
  {
   "cell_type": "code",
   "execution_count": 14,
   "metadata": {},
   "outputs": [
    {
     "data": {
      "text/plain": [
       "0.8209551817784049"
      ]
     },
     "execution_count": 14,
     "metadata": {},
     "output_type": "execute_result"
    }
   ],
   "source": [
    "s.PercentCollegeGrad.corr(s.IncomePerCapita)"
   ]
  },
  {
   "cell_type": "markdown",
   "metadata": {},
   "source": [
    "## Linear regression analyses\n",
    "\n",
    "<img src=\"https://upload.wikimedia.org/wikipedia/commons/thumb/3/3a/Linear_regression.svg/2560px-Linear_regression.svg.png\" alt=\"Regression\" width=\"300\"/> \n",
    "\n",
    "* Regression is a form of supervised machine learning \n",
    "    * Model a linear relationship\n",
    "    * Learn to predict outputs (y) given inputs (x...)\n",
    "        * labeled data (y = labels)\n",
    "    * https://en.wikipedia.org/wiki/Linear_regression\n",
    "    \n",
    "* Python:  scikit-learn library\n",
    "    * `sklearn.linear_model.LinearRegression().fit(inputs, output)`\n",
    "    * https://scikit-learn.org/stable/modules/linear_model.html#ordinary-least-squares\n",
    "    * https://realpython.com/linear-regression-in-python/\n"
   ]
  },
  {
   "cell_type": "markdown",
   "metadata": {},
   "source": [
    "### Simple Linear Regression\n",
    "\n",
    "![](https://cdn-images-1.medium.com/max/500/0*gglavDlTUWKn4Loe)\n",
    "\n",
    "* Predict y given x\n",
    "* $y = m*x + b$\n",
    "* Find m,b that minimizes the Loss:\n",
    "    * $residual_i = actual_i - predicted_i = y_i - (m*x_i + b)$\n",
    "    * $Loss = \\sum residual_i^2$\n",
    "* Regression line plot\n",
    "* Residual plot\n",
    "    * https://www.qualtrics.com/support/stats-iq/analyses/regression-guides/interpreting-residual-plots-improve-regression/\n",
    "* R-squared measure\n",
    "    * Coefficient of determination: proportion of total variation explained by the model\n",
    "    * $r^2 == 1$ means perfectly correlated results\n",
    "    * $r(predicted, actual)^2$  -- see Pearson Correlation\n",
    "\n",
    "How is IncomePerCapita linearly predicted by PercentCollegeGrad?"
   ]
  },
  {
   "cell_type": "code",
   "execution_count": 15,
   "metadata": {},
   "outputs": [
    {
     "data": {
      "text/plain": [
       "<AxesSubplot:xlabel='PercentCollegeGrad', ylabel='IncomePerCapita'>"
      ]
     },
     "execution_count": 15,
     "metadata": {},
     "output_type": "execute_result"
    },
    {
     "data": {
      "image/png": "[encoded data removed]",
      "text/plain": [
       "<Figure size 432x288 with 1 Axes>"
      ]
     },
     "metadata": {
      "needs_background": "light"
     },
     "output_type": "display_data"
    }
   ],
   "source": [
    "###\n",
    "from sklearn.linear_model import LinearRegression\n",
    "s.plot.scatter(x='PercentCollegeGrad', y='IncomePerCapita')"
   ]
  },
  {
   "cell_type": "code",
   "execution_count": 21,
   "metadata": {},
   "outputs": [
    {
     "data": {
      "text/plain": [
       "(array([995.54255058]), 10791.531798151806)"
      ]
     },
     "execution_count": 21,
     "metadata": {},
     "output_type": "execute_result"
    }
   ],
   "source": [
    "lm = LinearRegression().fit(s[['PercentCollegeGrad']], s.IncomePerCapita)\n",
    "lm.coef_, lm.intercept_"
   ]
  },
  {
   "cell_type": "code",
   "execution_count": 23,
   "metadata": {},
   "outputs": [
    {
     "data": {
      "text/html": [
       "<div>\n",
       "<style scoped>\n",
       "    .dataframe tbody tr th:only-of-type {\n",
       "        vertical-align: middle;\n",
       "    }\n",
       "\n",
       "    .dataframe tbody tr th {\n",
       "        vertical-align: top;\n",
       "    }\n",
       "\n",
       "    .dataframe thead th {\n",
       "        text-align: right;\n",
       "    }\n",
       "</style>\n",
       "<table border=\"1\" class=\"dataframe\">\n",
       "  <thead>\n",
       "    <tr style=\"text-align: right;\">\n",
       "      <th></th>\n",
       "      <th>Name</th>\n",
       "      <th>Abbrev</th>\n",
       "      <th>Population</th>\n",
       "      <th>Pop2000</th>\n",
       "      <th>IncomePerCapita</th>\n",
       "      <th>PercentCollegeGrad</th>\n",
       "      <th>MedianRent</th>\n",
       "      <th>CommuteTime</th>\n",
       "      <th>LandArea</th>\n",
       "    </tr>\n",
       "  </thead>\n",
       "  <tbody>\n",
       "    <tr>\n",
       "      <th>46</th>\n",
       "      <td>Virginia</td>\n",
       "      <td>VA</td>\n",
       "      <td>8001024</td>\n",
       "      <td>7078515</td>\n",
       "      <td>41727</td>\n",
       "      <td>33.4</td>\n",
       "      <td>777</td>\n",
       "      <td>26.9</td>\n",
       "      <td>39490.09</td>\n",
       "    </tr>\n",
       "  </tbody>\n",
       "</table>\n",
       "</div>"
      ],
      "text/plain": [
       "        Name Abbrev  Population  Pop2000  IncomePerCapita  PercentCollegeGrad  \\\n",
       "46  Virginia     VA     8001024  7078515            41727                33.4   \n",
       "\n",
       "    MedianRent  CommuteTime  LandArea  \n",
       "46         777         26.9  39490.09  "
      ]
     },
     "execution_count": 23,
     "metadata": {},
     "output_type": "execute_result"
    }
   ],
   "source": [
    "s[s.Abbrev == 'VA']"
   ]
  },
  {
   "cell_type": "code",
   "execution_count": 25,
   "metadata": {},
   "outputs": [
    {
     "data": {
      "text/plain": [
       "44042.65298742772"
      ]
     },
     "execution_count": 25,
     "metadata": {},
     "output_type": "execute_result"
    }
   ],
   "source": [
    "33.4 * lm.coef_[0] + lm.intercept_"
   ]
  },
  {
   "cell_type": "code",
   "execution_count": 28,
   "metadata": {},
   "outputs": [
    {
     "name": "stderr",
     "output_type": "stream",
     "text": [
      "/opt/anaconda3/lib/python3.9/site-packages/sklearn/base.py:450: UserWarning: X does not have valid feature names, but LinearRegression was fitted with feature names\n",
      "  warnings.warn(\n"
     ]
    },
    {
     "data": {
      "text/plain": [
       "array([44042.65298743])"
      ]
     },
     "execution_count": 28,
     "metadata": {},
     "output_type": "execute_result"
    }
   ],
   "source": [
    "lm.predict([[33.4]])"
   ]
  },
  {
   "cell_type": "code",
   "execution_count": 33,
   "metadata": {},
   "outputs": [],
   "source": [
    "s['PredictedIPC'] = lm.predict(s[['PercentCollegeGrad']])"
   ]
  },
  {
   "cell_type": "code",
   "execution_count": 36,
   "metadata": {},
   "outputs": [
    {
     "data": {
      "text/plain": [
       "<AxesSubplot:xlabel='PercentCollegeGrad', ylabel='PredictedIPC'>"
      ]
     },
     "execution_count": 36,
     "metadata": {},
     "output_type": "execute_result"
    },
    {
     "data": {
      "image/png": "[encoded data removed]",
      "text/plain": [
       "<Figure size 432x288 with 1 Axes>"
      ]
     },
     "metadata": {
      "needs_background": "light"
     },
     "output_type": "display_data"
    }
   ],
   "source": [
    "ax = s.plot.scatter(x='PercentCollegeGrad', \n",
    "                    y='IncomePerCapita', color='blue')\n",
    "s.plot.scatter(x='PercentCollegeGrad', \n",
    "               y='PredictedIPC', ax=ax, color='red')"
   ]
  },
  {
   "cell_type": "code",
   "execution_count": 39,
   "metadata": {},
   "outputs": [
    {
     "data": {
      "text/plain": [
       "723001434.7839286"
      ]
     },
     "execution_count": 39,
     "metadata": {},
     "output_type": "execute_result"
    }
   ],
   "source": [
    "s['Residual'] = s.PredictedIPC - s.IncomePerCapita\n",
    "(s.Residual**2).sum()"
   ]
  },
  {
   "cell_type": "code",
   "execution_count": 44,
   "metadata": {},
   "outputs": [
    {
     "data": {
      "text/plain": [
       "0.6739674104888136"
      ]
     },
     "execution_count": 44,
     "metadata": {},
     "output_type": "execute_result"
    }
   ],
   "source": [
    "(s.IncomePerCapita.corr(s.PredictedIPC))**2"
   ]
  },
  {
   "cell_type": "code",
   "execution_count": 43,
   "metadata": {},
   "outputs": [
    {
     "data": {
      "text/plain": [
       "0.6739674104888135"
      ]
     },
     "execution_count": 43,
     "metadata": {},
     "output_type": "execute_result"
    }
   ],
   "source": [
    "lm.score(s[['PercentCollegeGrad']], s.IncomePerCapita)"
   ]
  },
  {
   "cell_type": "markdown",
   "metadata": {},
   "source": [
    "### Polynomial Regression\n",
    "\n",
    "* Predict y given $x, x^2, x^3, ...$  (linear on these)\n",
    "* $y = f(x) = c_0 + c_1 x + c_2 x^2 + ...$\n",
    "\n",
    "How is IncomePerCapita **polynomially** predicted by PercentCollegeGrad?\n",
    "\n",
    "Trick:  How is IncomePerCapita **linearly** predicted by PercentCollegeGrad and PercentCollegeGrad$^2$ and ...?"
   ]
  },
  {
   "cell_type": "code",
   "execution_count": 45,
   "metadata": {},
   "outputs": [],
   "source": [
    "###\n",
    "from sklearn.preprocessing import PolynomialFeatures"
   ]
  },
  {
   "cell_type": "code",
   "execution_count": 49,
   "metadata": {},
   "outputs": [
    {
     "data": {
      "text/plain": [
       "array([[  21.5 ,  462.25],\n",
       "       [  26.5 ,  702.25],\n",
       "       [  25.7 ,  660.49],\n",
       "       [  18.9 ,  357.21],\n",
       "       [  29.7 ,  882.09],\n",
       "       [  35.5 , 1260.25],\n",
       "       [  35.1 , 1232.01],\n",
       "       [  27.5 ,  756.25],\n",
       "       [  47.1 , 2218.41],\n",
       "       [  25.6 ,  655.36],\n",
       "       [  27.1 ,  734.41],\n",
       "       [  29.2 ,  852.64],\n",
       "       [  23.7 ,  561.69],\n",
       "       [  29.8 ,  888.04],\n",
       "       [  21.9 ,  479.61],\n",
       "       [  24.2 ,  585.64],\n",
       "       [  28.8 ,  829.44],\n",
       "       [  20.  ,  400.  ],\n",
       "       [  20.6 ,  424.36],\n",
       "       [  26.1 ,  681.21],\n",
       "       [  35.2 , 1239.04],\n",
       "       [  37.8 , 1428.84],\n",
       "       [  24.5 ,  600.25],\n",
       "       [  31.2 ,  973.44],\n",
       "       [  19.1 ,  364.81],\n",
       "       [  24.6 ,  605.16],\n",
       "       [  27.  ,  729.  ],\n",
       "       [  27.1 ,  734.41],\n",
       "       [  21.5 ,  462.25],\n",
       "       [  32.4 , 1049.76],\n",
       "       [  34.1 , 1162.81],\n",
       "       [  25.1 ,  630.01],\n",
       "       [  31.8 , 1011.24],\n",
       "       [  25.8 ,  665.64],\n",
       "       [  25.6 ,  655.36],\n",
       "       [  23.6 ,  556.96],\n",
       "       [  22.4 ,  501.76],\n",
       "       [  28.3 ,  800.89],\n",
       "       [  26.  ,  676.  ],\n",
       "       [  29.8 ,  888.04],\n",
       "       [  23.5 ,  552.25],\n",
       "       [  24.6 ,  605.16],\n",
       "       [  22.4 ,  501.76],\n",
       "       [  25.4 ,  645.16],\n",
       "       [  28.7 ,  823.69],\n",
       "       [  32.9 , 1082.41],\n",
       "       [  33.4 , 1115.56],\n",
       "       [  30.8 ,  948.64],\n",
       "       [  17.1 ,  292.41],\n",
       "       [  25.5 ,  650.25],\n",
       "       [  23.2 ,  538.24]])"
      ]
     },
     "execution_count": 49,
     "metadata": {},
     "output_type": "execute_result"
    }
   ],
   "source": [
    "X = PolynomialFeatures(degree=2, include_bias=False).fit_transform(s[['PercentCollegeGrad']])\n",
    "X"
   ]
  },
  {
   "cell_type": "code",
   "execution_count": 51,
   "metadata": {},
   "outputs": [],
   "source": [
    "pm = LinearRegression().fit(X, s.IncomePerCapita)"
   ]
  },
  {
   "cell_type": "code",
   "execution_count": 53,
   "metadata": {},
   "outputs": [],
   "source": [
    "s['PolyIPC'] = pm.predict(X)"
   ]
  },
  {
   "cell_type": "code",
   "execution_count": 55,
   "metadata": {},
   "outputs": [
    {
     "data": {
      "text/plain": [
       "<AxesSubplot:xlabel='PercentCollegeGrad', ylabel='PolyIPC'>"
      ]
     },
     "execution_count": 55,
     "metadata": {},
     "output_type": "execute_result"
    },
    {
     "data": {
      "image/png": "[encoded data removed]",
      "text/plain": [
       "<Figure size 432x288 with 1 Axes>"
      ]
     },
     "metadata": {
      "needs_background": "light"
     },
     "output_type": "display_data"
    }
   ],
   "source": [
    "ax = s.plot.scatter(x='PercentCollegeGrad', \n",
    "                    y='IncomePerCapita', color='blue')\n",
    "s.plot.scatter(x='PercentCollegeGrad', \n",
    "               y='PolyIPC', ax=ax, color='red')"
   ]
  },
  {
   "cell_type": "code",
   "execution_count": 56,
   "metadata": {},
   "outputs": [
    {
     "data": {
      "text/plain": [
       "0.7030533652065534"
      ]
     },
     "execution_count": 56,
     "metadata": {},
     "output_type": "execute_result"
    }
   ],
   "source": [
    "pm.score(X, s.IncomePerCapita)"
   ]
  },
  {
   "cell_type": "markdown",
   "metadata": {},
   "source": [
    "### Multiple Linear Regression\n",
    "\n",
    "* Predict y given x1, x2, x3, ...\n",
    "* $y = m_1 x_1 + m_2 x_2 + ... + b$\n",
    "\n",
    "How is IncomePerCapita linearly predicted by PercentCollegeGrad and MedianRent?"
   ]
  },
  {
   "cell_type": "code",
   "execution_count": 57,
   "metadata": {},
   "outputs": [],
   "source": [
    "d = s[['PercentCollegeGrad', 'MedianRent']]"
   ]
  },
  {
   "cell_type": "code",
   "execution_count": 58,
   "metadata": {},
   "outputs": [],
   "source": [
    "mm = LinearRegression().fit(d, s.IncomePerCapita)"
   ]
  },
  {
   "cell_type": "code",
   "execution_count": 60,
   "metadata": {},
   "outputs": [
    {
     "data": {
      "text/plain": [
       "0.6963076560360941"
      ]
     },
     "execution_count": 60,
     "metadata": {},
     "output_type": "execute_result"
    }
   ],
   "source": [
    "mm.predict(d)\n",
    "mm.score(d, s.IncomePerCapita)"
   ]
  },
  {
   "cell_type": "code",
   "execution_count": null,
   "metadata": {},
   "outputs": [],
   "source": []
  }
 ],
 "metadata": {
  "kernelspec": {
   "display_name": "Python 3 (ipykernel)",
   "language": "python",
   "name": "python3"
  },
  "language_info": {
   "codemirror_mode": {
    "name": "ipython",
    "version": 3
   },
   "file_extension": ".py",
   "mimetype": "text/x-python",
   "name": "python",
   "nbconvert_exporter": "python",
   "pygments_lexer": "ipython3",
   "version": "3.9.12"
  }
 },
 "nbformat": 4,
 "nbformat_minor": 2
}
